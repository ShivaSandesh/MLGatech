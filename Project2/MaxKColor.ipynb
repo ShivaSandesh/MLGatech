{
 "cells": [
  {
   "cell_type": "code",
   "execution_count": 25,
   "id": "ca4d76d8",
   "metadata": {},
   "outputs": [],
   "source": [
    "import numpy as np\n",
    "import pandas as pd\n",
    "import mlrose_hiive\n",
    "import matplotlib.pyplot as plt\n",
    "import time as tm\n"
   ]
  },
  {
   "cell_type": "code",
   "execution_count": 26,
   "id": "441cc243",
   "metadata": {},
   "outputs": [
    {
     "name": "stdout",
     "output_type": "stream",
     "text": [
      "[(4, 9), (6, 3), (3, 7), (7, 12), (9, 14), (7, 8), (8, 7), (6, 4), (0, 7), (12, 0), (11, 7), (10, 6), (3, 12)]\n"
     ]
    }
   ],
   "source": [
    "edges = []\n",
    "n = 15\n",
    "np.random.seed(7)\n",
    "for i in range(n):\n",
    "    first_number = np.random.randint(0, n)\n",
    "    second_number = np.random.randint(0, n)\n",
    "    edge=(first_number, second_number)\n",
    "    if(first_number != second_number):\n",
    "        if edge not in edges:\n",
    "            edges.append(edge)\n",
    "print(edges)\n",
    "    "
   ]
  },
  {
   "cell_type": "code",
   "execution_count": 35,
   "id": "10efb114",
   "metadata": {},
   "outputs": [],
   "source": [
    "random_state = 7\n",
    "fitness = mlrose_hiive.MaxKColor(edges)\n",
    "# starting at 15 since there are 12 edges so we need more than that \n",
    "problem_length_array = range(5, 100, 20)\n",
    "\n",
    "rhc_stats_1 = []\n",
    "sa_stats_1 = []\n",
    "ga_stats_1  = []\n",
    "mimic_stats_1 = []\n",
    "max_attempts_1 = 100\n",
    "max_iters = 100\n",
    "for problem_length in problem_length_array:\n",
    "    for i in range(n):\n",
    "        first_number = np.random.randint(0, n)\n",
    "        second_number = np.random.randint(0, n)\n",
    "        edge=(first_number, second_number)\n",
    "        if(first_number != second_number):\n",
    "            if edge not in edges:\n",
    "                edges.append(edge)\n",
    "    \n",
    "    fitness = mlrose_hiive.MaxKColor(edges)       \n",
    "    \n",
    "    ## Random Hill Climb\n",
    "    problem = mlrose_hiive.DiscreteOpt(length=len(edges), fitness_fn=fitness, maximize=True)\n",
    "   \n",
    "    start_time = tm.time()\n",
    "    rhc_best_state, rhc_best_fitness,_ = mlrose_hiive.random_hill_climb(problem,\n",
    "                                                   max_attempts = max_attempts, max_iters = max_iters,\n",
    "                                                      curve=False, random_state = random_state)\n",
    "    end_time = tm.time()\n",
    "    rhc_time = end_time - start_time\n",
    "    rhc_stats_1.append((problem_length,rhc_best_fitness,rhc_time))\n",
    "    \n",
    "    # Simulated Annealing\n",
    "    # Define decay schedule\n",
    "    schedule = mlrose_hiive.ExpDecay()\n",
    "    start_time = tm.time()\n",
    "    sa_best_state, sa_best_fitness,_  = mlrose_hiive.simulated_annealing(problem, schedule = schedule,\n",
    "                                                      max_attempts = max_attempts, max_iters = max_iters,\n",
    "                                                      curve=False, random_state = random_state)\n",
    "    end_time = tm.time()\n",
    "    sa_time = end_time - start_time\n",
    "    sa_stats_1.append((problem_length,sa_best_fitness,sa_time))\n",
    "    \n",
    "    # Genetic Algorithm\n",
    "    start_time = tm.time()\n",
    "    ga_best_state, ga_best_fitness,_ = mlrose_hiive.genetic_alg(problem, pop_size=200, mutation_prob=0.1, \n",
    "                                                                max_attempts=max_attempts, max_iters=max_iters, \n",
    "                                                                curve=False, random_state=random_state)\n",
    "    end_time = tm.time()\n",
    "    ga_time = end_time - start_time\n",
    "    ga_stats_1.append((problem_length,ga_best_fitness,ga_time))\n",
    "    \n",
    "    #MIMIC\n",
    "    start_time = tm.time()\n",
    "    mimic_best_state, mimic_best_fitness,_ = mlrose_hiive.mimic(problem, pop_size=200, keep_pct=0.25, \n",
    "                                                                max_attempts=max_attempts,max_iters=max_iters, \n",
    "                                                               curve=False, random_state=random_state)\n",
    "    end_time = tm.time()\n",
    "    mimic_time = end_time - start_time\n",
    "    mimic_stats_1.append((problem_length,mimic_best_fitness,mimic_time))\n",
    "    "
   ]
  },
  {
   "cell_type": "code",
   "execution_count": 36,
   "id": "d98afe29",
   "metadata": {},
   "outputs": [],
   "source": [
    "rhc_stats_1 = np.array(rhc_stats_1)\n",
    "sa_stats_1 = np.array(sa_stats_1)\n",
    "ga_stats_1 = np.array(ga_stats_1)\n",
    "mimic_stats_1 = np.array(mimic_stats_1)"
   ]
  },
  {
   "cell_type": "code",
   "execution_count": 43,
   "id": "da50555f",
   "metadata": {},
   "outputs": [
    {
     "data": {
      "image/png": "[encoded data removed]",
      "text/plain": [
       "<Figure size 432x288 with 1 Axes>"
      ]
     },
     "metadata": {
      "needs_background": "light"
     },
     "output_type": "display_data"
    }
   ],
   "source": [
    "plt.figure()\n",
    "plt.plot(rhc_stats_1[:,[0]], rhc_stats_1[:,[1]],  label='RHC', color='black')\n",
    "plt.plot(sa_stats_1[:,[0]], sa_stats_1[:,[1]],  label='SA', color='purple')\n",
    "plt.plot(ga_stats_1[:,[0]], ga_stats_1[:,[1]],  label='GA', color='orange')\n",
    "plt.plot(mimic_stats_1[:,[0]], mimic_stats_1[:,[1]],  label='MIMIC', color='green')\n",
    "plt.title('MAX K-COLOR: Fitness vs. Problem Length(Edges)')\n",
    "plt.xlabel('Problem Length(Edges)')\n",
    "plt.ylabel(\"Best Fitness score\")\n",
    "plt.legend(loc=\"best\")\n",
    "plt.grid()\n",
    "plt.show()"
   ]
  },
  {
   "cell_type": "code",
   "execution_count": 33,
   "id": "83a9ff04",
   "metadata": {},
   "outputs": [
    {
     "data": {
      "image/png": "[encoded data removed]",
      "text/plain": [
       "<Figure size 432x288 with 1 Axes>"
      ]
     },
     "metadata": {
      "needs_background": "light"
     },
     "output_type": "display_data"
    }
   ],
   "source": [
    "plt.figure()\n",
    "plt.plot(rhc_stats_1[:,[0]], rhc_stats_1[:,[2]],  label='RHC', color='blue')\n",
    "plt.plot(sa_stats_1[:,[0]], sa_stats_1[:,[2]],  label='SA', color='red')\n",
    "plt.plot(ga_stats_1[:,[0]], ga_stats_1[:,[2]],  label='GA', color='orange')\n",
    "plt.plot(mimic_stats_1[:,[0]], mimic_stats_1[:,[2]],  label='MIMIC', color='black')\n",
    "plt.title('MAX K-COLOR: Time vs. Problem Length')\n",
    "plt.xlabel('Problem Length(Edges)')\n",
    "plt.ylabel(\"Time(s)\")\n",
    "plt.legend(loc=\"best\")\n",
    "plt.grid()\n",
    "plt.show()"
   ]
  },
  {
   "cell_type": "code",
   "execution_count": 46,
   "id": "9fa0b009",
   "metadata": {},
   "outputs": [
    {
     "name": "stdout",
     "output_type": "stream",
     "text": [
      "[[0.00380635]\n",
      " [0.00211477]\n",
      " [0.00255609]\n",
      " [0.00279188]\n",
      " [0.00277996]]\n"
     ]
    }
   ],
   "source": [
    "print(rhc_stats_1[:,[2]])"
   ]
  },
  {
   "cell_type": "code",
   "execution_count": 47,
   "id": "4f9aa66d",
   "metadata": {},
   "outputs": [
    {
     "name": "stdout",
     "output_type": "stream",
     "text": [
      "[[0.00566506]\n",
      " [0.00364089]\n",
      " [0.00421119]\n",
      " [0.0048008 ]\n",
      " [0.00544691]]\n"
     ]
    }
   ],
   "source": [
    "print(sa_stats_1[:,[2]])"
   ]
  },
  {
   "cell_type": "code",
   "execution_count": 48,
   "id": "b3f335c3",
   "metadata": {},
   "outputs": [
    {
     "name": "stdout",
     "output_type": "stream",
     "text": [
      "[[1.49374175]\n",
      " [1.16664886]\n",
      " [1.2165091 ]\n",
      " [1.27790403]\n",
      " [1.29797411]]\n"
     ]
    }
   ],
   "source": [
    "print(ga_stats_1[:,[2]])"
   ]
  },
  {
   "cell_type": "code",
   "execution_count": 49,
   "id": "21e8cbbd",
   "metadata": {},
   "outputs": [
    {
     "name": "stdout",
     "output_type": "stream",
     "text": [
      "[[ 20.32736301]\n",
      " [ 45.75097013]\n",
      " [ 71.89045501]\n",
      " [108.96999502]\n",
      " [145.79152608]]\n"
     ]
    }
   ],
   "source": [
    "print(mimic_stats_1[:,[2]])"
   ]
  },
  {
   "cell_type": "markdown",
   "id": "b78616e9",
   "metadata": {},
   "source": [
    "# Modifying the Iterations"
   ]
  },
  {
   "cell_type": "code",
   "execution_count": 39,
   "id": "0ecf3213",
   "metadata": {},
   "outputs": [],
   "source": [
    "random_state = 7\n",
    "fitness = mlrose_hiive.MaxKColor(edges)\n",
    "max_iters_array = range(15, 200, 20)\n",
    "rhc_stats = []\n",
    "sa_stats = []\n",
    "ga_stats  = []\n",
    "mimic_stats = []\n",
    "max_attempts = 1000\n",
    "max_iters = 100\n",
    "problem_length = 50\n",
    "\n",
    "for max_iters in max_iters_array:\n",
    "    ## Random Hill Climb\n",
    "    \n",
    "    problem = mlrose_hiive.DiscreteOpt(length=problem_length, fitness_fn=fitness, maximize=True)\n",
    "   \n",
    "    start_time = tm.time()\n",
    "    rhc_best_state, rhc_best_fitness,_ = mlrose_hiive.random_hill_climb(problem,\n",
    "                                                   max_attempts = max_attempts, max_iters = max_iters,\n",
    "                                                      curve=False, random_state = random_state)\n",
    "    end_time = tm.time()\n",
    "    rhc_time = end_time - start_time\n",
    "    rhc_stats.append((max_iters,rhc_best_fitness,rhc_time))\n",
    "    \n",
    "    # Simulated Annealing\n",
    "    # Define decay schedule\n",
    "    schedule = mlrose_hiive.ExpDecay()\n",
    "    start_time = tm.time()\n",
    "    sa_best_state, sa_best_fitness,_  = mlrose_hiive.simulated_annealing(problem, schedule = schedule,\n",
    "                                                      max_attempts = max_attempts, max_iters = max_iters,\n",
    "                                                      curve=False, random_state = random_state)\n",
    "    end_time = tm.time()\n",
    "    sa_time = end_time - start_time\n",
    "    sa_stats.append((max_iters,sa_best_fitness,sa_time))\n",
    "    \n",
    "    # Genetic Algorithm\n",
    "    start_time = tm.time()\n",
    "    ga_best_state, ga_best_fitness,_ = mlrose_hiive.genetic_alg(problem, pop_size=200, mutation_prob=0.5, \n",
    "                                                                max_attempts=max_attempts, max_iters=max_iters, \n",
    "                                                                curve=False, random_state=random_state)\n",
    "    end_time = tm.time()\n",
    "    ga_time = end_time - start_time\n",
    "    ga_stats.append((max_iters,ga_best_fitness,ga_time))\n",
    "    \n",
    "    # MIMIC\n",
    "    start_time = tm.time()\n",
    "    mimic_best_state, mimic_best_fitness,_ = mlrose_hiive.mimic(problem, pop_size=200, keep_pct=0.1, \n",
    "                                                                max_attempts=max_attempts,max_iters=max_iters, \n",
    "                                                                curve=False, random_state=random_state)\n",
    "    end_time = tm.time()\n",
    "    mimic_time = end_time - start_time\n",
    "    mimic_stats.append((max_iters,mimic_best_fitness,mimic_time))"
   ]
  },
  {
   "cell_type": "code",
   "execution_count": 41,
   "id": "92e3c91c",
   "metadata": {},
   "outputs": [],
   "source": [
    "rhc_stats = np.array(rhc_stats)\n",
    "sa_stats = np.array(sa_stats)\n",
    "ga_stats = np.array(ga_stats)\n",
    "mimic_stats = np.array(mimic_stats)\n"
   ]
  },
  {
   "cell_type": "code",
   "execution_count": 44,
   "id": "48b25026",
   "metadata": {},
   "outputs": [
    {
     "data": {
      "image/png": "[encoded data removed]",
      "text/plain": [
       "<Figure size 432x288 with 1 Axes>"
      ]
     },
     "metadata": {
      "needs_background": "light"
     },
     "output_type": "display_data"
    }
   ],
   "source": [
    "plt.figure()\n",
    "plt.plot( rhc_stats[:,[0]], rhc_stats[:,[1]],  label='RHC', color='magenta')\n",
    "plt.plot(sa_stats[:,[0]], sa_stats[:,[1]],  label='SA', color='black')\n",
    "plt.plot( ga_stats[:,[1]], ga_stats[:,[1]],  label='GA', color='orange')\n",
    "plt.plot(mimic_stats[:,[0]], mimic_stats[:,[1]],  label='MIMIC', color='green')\n",
    "plt.title('MAX K-COLOR: Best Fitness vs. Max Iterations')\n",
    "plt.xlabel('Max Iterations ')\n",
    "plt.ylabel(\"Fitness\")\n",
    "plt.legend(loc=\"best\")\n",
    "plt.grid()\n",
    "plt.show()"
   ]
  },
  {
   "cell_type": "code",
   "execution_count": 45,
   "id": "0753f4fb",
   "metadata": {},
   "outputs": [
    {
     "data": {
      "image/png": "[encoded data removed]",
      "text/plain": [
       "<Figure size 432x288 with 1 Axes>"
      ]
     },
     "metadata": {
      "needs_background": "light"
     },
     "output_type": "display_data"
    }
   ],
   "source": [
    "plt.figure()\n",
    "plt.plot( rhc_stats[:,[0]], rhc_stats[:,[2]],  label='RHC', color='magenta')\n",
    "plt.plot(sa_stats[:,[0]], sa_stats[:,[2]],  label='SA', color='black')\n",
    "plt.plot( ga_stats[:,[0]], ga_stats[:,[2]],  label='GA', color='orange')\n",
    "plt.plot(mimic_stats[:,[0]], mimic_stats[:,[2]],  label='MIMIC', color='green')\n",
    "plt.title('Continous Peaks: Time vs. Problem Length')\n",
    "plt.xlabel('Max Iterations ')\n",
    "plt.ylabel(\"Fitness\")\n",
    "plt.legend(loc=\"best\")\n",
    "plt.grid()\n",
    "plt.show()"
   ]
  },
  {
   "cell_type": "code",
   "execution_count": 52,
   "id": "daa5aa2b",
   "metadata": {},
   "outputs": [
    {
     "name": "stdout",
     "output_type": "stream",
     "text": [
      "[[0.00076127]\n",
      " [0.00124288]\n",
      " [0.00181699]\n",
      " [0.00258493]\n",
      " [0.00285411]\n",
      " [0.00434875]\n",
      " [0.003901  ]\n",
      " [0.00462127]\n",
      " [0.0051291 ]\n",
      " [0.00568008]]\n"
     ]
    }
   ],
   "source": [
    "print(rhc_stats[:,[2]])\n"
   ]
  },
  {
   "cell_type": "code",
   "execution_count": 54,
   "id": "7117463a",
   "metadata": {},
   "outputs": [
    {
     "name": "stdout",
     "output_type": "stream",
     "text": [
      "[[0.00111723]\n",
      " [0.00250292]\n",
      " [0.00277209]\n",
      " [0.00413275]\n",
      " [0.00634313]\n",
      " [0.00763583]\n",
      " [0.0078783 ]\n",
      " [0.0100019 ]\n",
      " [0.00964785]\n",
      " [0.01010466]]\n"
     ]
    }
   ],
   "source": [
    "print(sa_stats[:,[2]])"
   ]
  },
  {
   "cell_type": "code",
   "execution_count": 55,
   "id": "b10d062e",
   "metadata": {},
   "outputs": [
    {
     "name": "stdout",
     "output_type": "stream",
     "text": [
      "[[0.25260592]\n",
      " [0.52062201]\n",
      " [0.80184007]\n",
      " [1.12521887]\n",
      " [1.39354181]\n",
      " [1.93034792]\n",
      " [2.22102284]\n",
      " [2.381145  ]\n",
      " [2.53757715]\n",
      " [2.62029481]]\n"
     ]
    }
   ],
   "source": [
    "print(ga_stats[:,[2]])"
   ]
  },
  {
   "cell_type": "code",
   "execution_count": 56,
   "id": "e0c1dc14",
   "metadata": {},
   "outputs": [
    {
     "name": "stdout",
     "output_type": "stream",
     "text": [
      "[[ 12.49383092]\n",
      " [ 27.30465269]\n",
      " [ 45.80001926]\n",
      " [ 64.53351092]\n",
      " [ 76.26400304]\n",
      " [103.34485888]\n",
      " [112.5681529 ]\n",
      " [125.64239907]\n",
      " [145.0522511 ]\n",
      " [157.72163033]]\n"
     ]
    }
   ],
   "source": [
    "print(mimic_stats[:,[2]])"
   ]
  },
  {
   "cell_type": "markdown",
   "id": "adf2c105",
   "metadata": {},
   "source": [
    "# Parameter Tuning "
   ]
  },
  {
   "cell_type": "code",
   "execution_count": 14,
   "id": "83cb65e8",
   "metadata": {},
   "outputs": [
    {
     "data": {
      "image/png": "[encoded data removed]",
      "text/plain": [
       "<Figure size 432x288 with 1 Axes>"
      ]
     },
     "metadata": {
      "needs_background": "light"
     },
     "output_type": "display_data"
    }
   ],
   "source": [
    "fitness = mlrose_hiive.MaxKColor(edges)\n",
    "problem = mlrose_hiive.DiscreteOpt(length=100, fitness_fn=fitness, maximize=True)\n",
    "random_state = 7\n",
    "schedule = mlrose_hiive.ExpDecay(init_temp=10, exp_const=0.05, min_temp=5)\n",
    "sa_best_state, sa_best_fitness_exp,sa_best_fitness_curve_exp  = mlrose_hiive.simulated_annealing(\n",
    "                                                                    problem, schedule = schedule,\n",
    "                                                                    max_attempts = 100, max_iters = 1000,\n",
    "                                                                    curve=True, random_state = random_state)\n",
    "\n",
    "schedule=mlrose_hiive.GeomDecay(init_temp=20, decay=0.99 , min_temp=1)\n",
    "sa_best_state, sa_best_fitness_geom,sa_best_fitness_curve_geom  = mlrose_hiive.simulated_annealing(\n",
    "                                                                        problem, schedule = schedule,\n",
    "                                                                        max_attempts = 100, max_iters = 1000,\n",
    "                                                                        curve=True, random_state = random_state)\n",
    "\n",
    "schedule=mlrose_hiive.ArithDecay(init_temp=20, decay=0.99, min_temp=1)\n",
    "sa_best_state, sa_best_fitness_arith,sa_best_fitness_curve_arith  = mlrose_hiive.simulated_annealing(\n",
    "                                                                        problem, schedule = schedule,\n",
    "                                                                        max_attempts = 100, max_iters = 1000,\n",
    "                                                                        curve=True, random_state = random_state)\n",
    "\n",
    "plt.figure()\n",
    "plt.plot( sa_best_fitness_curve_exp[:,[1]],  label='ExpDecay', color='magenta')\n",
    "plt.plot(sa_best_fitness_curve_geom[:,[1]],  label='GeomDecay', color='black')\n",
    "plt.plot(sa_best_fitness_curve_arith[:,[1]] ,  label='ArithDecay', color='green')\n",
    "plt.title('FlipFlop: SA Different Decay Functions')\n",
    "plt.xlabel('Max Iterations ')\n",
    "plt.ylabel(\"Fitness\")\n",
    "plt.legend(loc=\"best\")\n",
    "plt.grid()\n",
    "plt.show()"
   ]
  },
  {
   "cell_type": "code",
   "execution_count": null,
   "id": "76b1ea31",
   "metadata": {},
   "outputs": [],
   "source": []
  },
  {
   "cell_type": "code",
   "execution_count": 16,
   "id": "79f1dfdf",
   "metadata": {},
   "outputs": [],
   "source": [
    "# RHC\n",
    "# changing the restart parameter\n",
    "random_state = 7\n",
    "fitness = mlrose_hiive.MaxKColor(edges)\n",
    "# starting at 15 since there are 12 edges so we need more than that \n",
    "max_attempts = 100\n",
    "max_iters = 1000\n",
    "problem = mlrose_hiive.DiscreteOpt(length=75, fitness_fn=fitness, maximize=True)\n",
    "\n",
    "rhc_best_state_2, rhc_best_fitness_2, rhc_best_fitness_curve_0 = mlrose_hiive.random_hill_climb(problem,\n",
    "                                                   max_attempts = max_attempts, max_iters = max_iters,\n",
    "                                                      curve=True, restarts = 0,  random_state = random_state)\n",
    "\n",
    "rhc_best_state_2, rhc_best_fitness_2, rhc_best_fitness_curve_4 = mlrose_hiive.random_hill_climb(problem,\n",
    "                                                   max_attempts = max_attempts, max_iters = max_iters,\n",
    "                                                      curve=True, restarts = 4,  random_state = random_state)\n",
    "\n",
    "\n",
    "rhc_best_state_2, rhc_best_fitness_2, rhc_best_fitness_curve_8 = mlrose_hiive.random_hill_climb(problem,\n",
    "                                                   max_attempts = max_attempts, max_iters = max_iters,\n",
    "                                                      curve=True, restarts = 8,  random_state = random_state)\n",
    "rhc_best_state_2, rhc_best_fitness_2, rhc_best_fitness_curve_32 = mlrose_hiive.random_hill_climb(problem,\n",
    "                                                   max_attempts = max_attempts, max_iters = max_iters,\n",
    "                                                      curve=True, restarts = 32,  random_state = random_state)"
   ]
  },
  {
   "cell_type": "code",
   "execution_count": 22,
   "id": "01428bab",
   "metadata": {},
   "outputs": [],
   "source": [
    "random_state = 7\n",
    "fitness = mlrose_hiive.MaxKColor(edges)\n",
    "# starting at 15 since there are 12 edges so we need more than that \n",
    "max_attempts = 100\n",
    "max_iters = 1000\n",
    "time_diff = [0,0,0]\n",
    "problem = mlrose_hiive.DiscreteOpt(length=75, fitness_fn=fitness, maximize=True)\n",
    "\n",
    "start_time = tm.time()\n",
    "ga_best_state_2, ga_best_fitness_2_5,ga_best_fitness_curve_50 = mlrose_hiive.genetic_alg(problem, \n",
    "                                                                pop_size=50, mutation_prob=0.2, \n",
    "                                                                max_attempts=max_attempts, max_iters=max_iters, \n",
    "                                                                curve=True, random_state=random_state)\n",
    "end_time = tm.time()\n",
    "time_diff[0] = end_time - start_time\n",
    "\n",
    "start_time = tm.time()\n",
    "ga_best_state_2, ga_best_fitness_2_200,ga_best_fitness_curve_200 = mlrose_hiive.genetic_alg(problem, \n",
    "                                                                pop_size=200, mutation_prob=0.2, \n",
    "                                                                max_attempts=max_attempts, max_iters=max_iters, \n",
    "                                                                curve=True, random_state=random_state)\n",
    "end_time = tm.time()\n",
    "time_diff[1] = end_time - start_time\n",
    "\n",
    "start_time = tm.time()\n",
    "ga_best_state_2, ga_best_fitness_2_500,ga_best_fitness_curve_500 = mlrose_hiive.genetic_alg(problem, \n",
    "                                                                pop_size=500, mutation_prob=0.2, \n",
    "                                                                max_attempts=max_attempts, max_iters=max_iters, \n",
    "                                                               curve=True, random_state=random_state)\n",
    "end_time = tm.time()\n",
    "time_diff[2] = end_time - start_time"
   ]
  },
  {
   "cell_type": "code",
   "execution_count": 23,
   "id": "e35cc85a",
   "metadata": {},
   "outputs": [
    {
     "name": "stdout",
     "output_type": "stream",
     "text": [
      "12.0\n",
      "12.0\n",
      "12.0\n",
      "[0.2845339775085449, 1.0899760723114014, 2.985524892807007]\n"
     ]
    }
   ],
   "source": [
    "print(ga_best_fitness_2_5)\n",
    "print(ga_best_fitness_2_200)\n",
    "print(ga_best_fitness_2_500)\n",
    "print(time_diff)"
   ]
  },
  {
   "cell_type": "code",
   "execution_count": 21,
   "id": "1720b6e2",
   "metadata": {},
   "outputs": [
    {
     "name": "stdout",
     "output_type": "stream",
     "text": [
      "12.0\n"
     ]
    }
   ],
   "source": []
  },
  {
   "cell_type": "code",
   "execution_count": null,
   "id": "27d6fa2a",
   "metadata": {},
   "outputs": [],
   "source": []
  }
 ],
 "metadata": {
  "kernelspec": {
   "display_name": "Python 3 (ipykernel)",
   "language": "python",
   "name": "python3"
  },
  "language_info": {
   "codemirror_mode": {
    "name": "ipython",
    "version": 3
   },
   "file_extension": ".py",
   "mimetype": "text/x-python",
   "name": "python",
   "nbconvert_exporter": "python",
   "pygments_lexer": "ipython3",
   "version": "3.9.12"
  }
 },
 "nbformat": 4,
 "nbformat_minor": 5
}
